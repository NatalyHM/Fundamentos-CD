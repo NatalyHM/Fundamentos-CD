{
 "cells": [
  {
   "cell_type": "code",
   "execution_count": 33,
   "metadata": {},
   "outputs": [
    {
     "name": "stdout",
     "output_type": "stream",
     "text": [
      "Lista de pesos en kg guardada en 'pesos.npy'.\n"
     ]
    }
   ],
   "source": [
    "# Notebook 1: Creación de la lista de pesos de un grupo de estudiantes\n",
    "# Contexto:\n",
    "# Lista de pesos (en kg) de un salón de clase con 11 estudiantes\n",
    "\n",
    "# Lista de pesos en kg\n",
    "pesos = [47, 53, 54, 54, 75, 76, 78, 78, 80, 81, 83]\n",
    "\n",
    "# Guardamos la lista en un archivo .npy de NumPy para que los otros notebooks la carguen\n",
    "import numpy as np\n",
    "np.save('pesos.npy', pesos)\n",
    "\n",
    "print(\"Lista de pesos en kg guardada en 'pesos.npy'.\")"
   ]
  },
  {
   "cell_type": "code",
   "execution_count": 34,
   "metadata": {},
   "outputs": [
    {
     "name": "stdout",
     "output_type": "stream",
     "text": [
      "Media (promedio) de los pesos: 69.0 kilogramos\n"
     ]
    }
   ],
   "source": [
    "# Notebook 2: Cálculo de la Media\n",
    "# Cargar la lista de pesos en kg en 'pesos.npy'\n",
    "import numpy as np\n",
    "pesos = np.load('pesos.npy')\n",
    "\n",
    "# Calcular la media\n",
    "media = np.mean(pesos)\n",
    "print(f\"Media (promedio) de los pesos: {media} kilogramos\")"
   ]
  },
  {
   "cell_type": "code",
   "execution_count": 35,
   "metadata": {},
   "outputs": [
    {
     "name": "stdout",
     "output_type": "stream",
     "text": [
      "Mediana de los pesos: 76.0 kilogramos\n"
     ]
    }
   ],
   "source": [
    "# Notebook 3: Cálculo de la Mediana\n",
    "# Cargar la lista de pesos en kg desde el archivo 'pesos.npy'\n",
    "import numpy as np\n",
    "pesos = np.load('pesos.npy')\n",
    "\n",
    "# Calcular la mediana\n",
    "mediana = np.median(pesos)\n",
    "print(f\"Mediana de los pesos: {mediana} kilogramos\")"
   ]
  },
  {
   "cell_type": "code",
   "execution_count": 39,
   "metadata": {},
   "outputs": [
    {
     "name": "stdout",
     "output_type": "stream",
     "text": [
      "Modas: los valores más frecuentes de los pesos en kg son: 54, 78, cada uno aparece 2 veces\n"
     ]
    }
   ],
   "source": [
    "# Notebook 4: Cálculo de la Moda (con múltiples modas)\n",
    "import numpy as np\n",
    "from collections import Counter\n",
    "\n",
    "# Cargar la lista de pesos en kg\n",
    "pesos = np.load('pesos.npy')\n",
    "\n",
    "# Calcular todas las modas\n",
    "contador = Counter(pesos)  # Cuenta la frecuencia de cada valor\n",
    "max_frecuencia = max(contador.values())  # Encuentra la frecuencia máxima\n",
    "modas = [int(k) for k, v in contador.items() if v == max_frecuencia]  # Lista de todas las modas como int\n",
    "frecuencia = max_frecuencia\n",
    "\n",
    "# Mostrar todas las modas de forma legible\n",
    "modas_str = ', '.join(map(str, modas))  # Convertir modas a string\n",
    "print(f\"Modas: los valores más frecuentes de los pesos en kg son: {modas_str}, cada uno aparece {frecuencia} veces\")"
   ]
  },
  {
   "cell_type": "code",
   "execution_count": 43,
   "metadata": {},
   "outputs": [
    {
     "name": "stdout",
     "output_type": "stream",
     "text": [
      "\n",
      "Normalización Z (Z-scores) de los pesos en kg:\n",
      "Peso (kg)       Z-score   \n",
      "47              -1.67\n",
      "53              -1.22\n",
      "54              -1.14\n",
      "54              -1.14\n",
      "75              0.46\n",
      "76              0.53\n",
      "78              0.69\n",
      "78              0.69\n",
      "80              0.84\n",
      "81              0.91\n",
      "83              1.07\n"
     ]
    }
   ],
   "source": [
    "# Notebook 5: Cálculo de la Normalización Z (Z-scores)\n",
    "import numpy as np\n",
    "import scipy.stats as stats\n",
    "\n",
    "# Cargar la lista de pesos en kg\n",
    "pesos = np.load('pesos.npy')\n",
    "\n",
    "# Calcular la normalización Z (Z-scores)\n",
    "z_scores = stats.zscore(pesos)\n",
    "print(\"\\nNormalización Z (Z-scores) de los pesos en kg:\")\n",
    "print(f\"{'Peso (kg)':<15} {'Z-score':<10}\")  # Encabezados\n",
    "\n",
    "for peso, score in zip(pesos, z_scores):\n",
    "    print(f\"{peso:<15} {score:.2f}\")  # Mostrar el peso junto al Z-score"
   ]
  }
 ],
 "metadata": {
  "kernelspec": {
   "display_name": "Python 3",
   "language": "python",
   "name": "python3"
  },
  "language_info": {
   "codemirror_mode": {
    "name": "ipython",
    "version": 3
   },
   "file_extension": ".py",
   "mimetype": "text/x-python",
   "name": "python",
   "nbconvert_exporter": "python",
   "pygments_lexer": "ipython3",
   "version": "3.12.6"
  }
 },
 "nbformat": 4,
 "nbformat_minor": 2
}
